{
 "cells": [
  {
   "cell_type": "markdown",
   "metadata": {},
   "source": [
    "<h1>TASK 1</h1>\n",
    "\n",
    "<p>Write a multiplication game program for kids. The program should give the player ten randomly generated multiplication questions to do. After each, the program should tell them whether they got it right or wrong and what the correct answer is.</p>\n",
    "\n",
    "<img src=\"Quiz.png\">"
   ]
  },
  {
   "cell_type": "code",
   "execution_count": null,
   "metadata": {},
   "outputs": [],
   "source": []
  },
  {
   "cell_type": "markdown",
   "metadata": {},
   "source": [
    "<h1>TASK 2</h1>\n",
    "\n",
    "<p>Write a program that lets the user play Rock-Paper-Scissors against the computer. There should be five rounds, and after those five rounds, your program should who won and who lost or that there is a tie</p>"
   ]
  },
  {
   "cell_type": "code",
   "execution_count": 4,
   "metadata": {
    "collapsed": true
   },
   "outputs": [
    {
     "name": "stdout",
     "output_type": "stream",
     "text": [
      "Question 1: 12 * 13 = 156\n",
      "Right!\n",
      "Question 2: 18 * 11 = 198\n",
      "Right!\n",
      "Question 3: 14 * 7 = 98\n",
      "Right!\n",
      "Question 4: 4 * 16 = 64\n",
      "Right!\n",
      "Question 5: 6 * 2 = 12\n",
      "Right!\n",
      "Question 6: 10 * 9 = 90\n",
      "Right!\n",
      "Question 7: 3 * 19 = 57\n",
      "Right!\n",
      "Question 8: 11 * 20 = 220\n",
      "Right!\n",
      "Question 9: 3 * 19 = 57\n",
      "Right!\n",
      "Question 10: 8 * 13 = 104\n",
      "Right!\n",
      "You got 10 out of 10!\n"
     ]
    }
   ],
   "source": [
    "import random\n",
    "\n",
    "# Create a counter variable for the while loop\n",
    "numOfQuestions = 1\n",
    "\n",
    "# Create a score variable.\n",
    "score = 0\n",
    "\n",
    "# Game logic. While loop executes as long as number of questions has not exceed 10.\n",
    "while numOfQuestions <= 10:\n",
    "    \n",
    "    # Generate two random numbers between 1 and 20.\n",
    "    num1 = random.randint(1, 10)\n",
    "    num2 = random.randint(1, 10)\n",
    "    \n",
    "    # Get the correct answer\n",
    "    answer = num1 * num2 \n",
    "    \n",
    "    # Ask user for the product of generated numbers\n",
    "    response = int(input('Question {}: {} * {} = '.format(numOfQuestions, num1, num2)))\n",
    "    \n",
    "    # Check if user's answer is right or wrong.\n",
    "    if answer == response:\n",
    "        print('Right!')\n",
    "        score = score + 1\n",
    "    else:\n",
    "        print('Wrong. The answer is {}'.format(answer))\n",
    "    \n",
    "    # Increment \n",
    "    # numOfQuestions += 1\n",
    "    numOfQuestions = numOfQuestions + 1\n",
    "    \n",
    "print('You got {} out of {}!'.format(score, numOfQuestions - 1))"
   ]
  },
  {
   "cell_type": "markdown",
   "metadata": {},
   "source": [
    "SPECS!\n",
    "GAME RUNS FOR FIVE ROUNDS!\n",
    "Have a way to represent Rock-Paper-Scissor to the computer.\n",
    "At each round, we want the computer to randomly select one of the options.\n",
    "We want the user to also select an option without knowing the option of the computer\n",
    "Compare the user's option with the computer's option\n",
    "Keep track of winner and loser.\n",
    "Show winner and loser or in the case of a tie, display tie.\n"
   ]
  },
  {
   "cell_type": "code",
   "execution_count": 7,
   "metadata": {},
   "outputs": [
    {
     "name": "stdout",
     "output_type": "stream",
     "text": [
      "Welcome to the Rock-Paper-Scissor Game.\n",
      "Press 1 for Rock\n",
      "Press 2 for Paper\n",
      "Press 3 for Scissor\n",
      "\n",
      "Choose your weapon: 1\n",
      "It is tie!\n",
      "\n",
      "Choose your weapon: 2\n",
      "I win!\n",
      "\n",
      "Choose your weapon: 3\n",
      "You win!\n",
      "\n",
      "Choose your weapon: 1\n",
      "I win!\n",
      "\n",
      "Choose your weapon: 2\n",
      "I win!\n",
      "Wins: 1 Loses: 3\n"
     ]
    }
   ],
   "source": [
    "import random\n",
    "\n",
    "# Counter variables. Keeps track of number of rounds, number of player winnings and computer winnings\n",
    "numOfRounds = 1\n",
    "computerWin = 0\n",
    "playerWin = 0\n",
    "\n",
    "# Introduce the user to the game\n",
    "print('Welcome to the Rock-Paper-Scissor Game.\\nPress 1 for Rock\\nPress 2 for Paper\\nPress 3 for Scissors')\n",
    "\n",
    "# Game logic\n",
    "while numOfRounds <= 5:\n",
    "    # Computer selects its choice\n",
    "    compChoice = random.randint(1, 3)\n",
    "    \n",
    "    # Prints a blank line\n",
    "    print()\n",
    "    \n",
    "    # Get user's response\n",
    "    response = int(input('Choose your weapon: '))\n",
    "    \n",
    "    # Check who wins the round.\n",
    "    if compChoice == 1 and response == 3:\n",
    "        print('I win!')\n",
    "        computerWin = computerWin + 1\n",
    "        \n",
    "    elif compChoice == 2 and response == 1:\n",
    "        print('I win!')\n",
    "        computerWin = computerWin + 1\n",
    "        \n",
    "    elif compChoice == 3 and response == 2:\n",
    "        print('I win!')\n",
    "        computerWin = computerWin + 1\n",
    "        \n",
    "    elif compChoice == 1 and response == 2:\n",
    "        print('You win!')\n",
    "        playerWin = playerWin + 1\n",
    "        \n",
    "    elif compChoice == 2 and response == 3:\n",
    "        print('You win!')\n",
    "        playerWin = playerWin + 1\n",
    "        \n",
    "    elif compChoice == 3 and response == 1:\n",
    "        print('You win!')\n",
    "        playerWin = playerWin + 1\n",
    "        \n",
    "    elif compChoice == response:\n",
    "        print('It is tie!')\n",
    "        \n",
    "    numOfRounds = numOfRounds + 1\n",
    "    \n",
    "print('Wins: {} Loses: {}'.format(playerWin, computerWin))\n",
    "        \n",
    "    "
   ]
  },
  {
   "cell_type": "code",
   "execution_count": null,
   "metadata": {},
   "outputs": [],
   "source": []
  }
 ],
 "metadata": {
  "kernelspec": {
   "display_name": "Python 3",
   "language": "python",
   "name": "python3"
  },
  "language_info": {
   "codemirror_mode": {
    "name": "ipython",
    "version": 3
   },
   "file_extension": ".py",
   "mimetype": "text/x-python",
   "name": "python",
   "nbconvert_exporter": "python",
   "pygments_lexer": "ipython3",
   "version": "3.8.3"
  }
 },
 "nbformat": 4,
 "nbformat_minor": 4
}
