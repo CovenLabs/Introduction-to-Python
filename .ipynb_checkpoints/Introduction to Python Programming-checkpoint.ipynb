{
 "cells": [
  {
   "cell_type": "markdown",
   "metadata": {},
   "source": [
    "<h1>DAY ONE</h1>\n",
    "\n",
    "<h2>INTRODUCTION</h2>\n",
    "\n",
    "<ul>\n",
    "    <li>Computers are pretty much dumb and don't make assumptions about what you wanna do</li>\n",
    "    <li>Programs are a way to tell the computer what to do in an unambiguous way.</li>\n",
    "    <li>Whatever you can clearly explain in finite steps can be implemented in code.</li>\n",
    "    <li>The thinking part is pretty much the hardest part of computer code</li>\n",
    "</ul>\n",
    "\n",
    "<p>Since computers are dumb, computer programs are ways we <em>command</em> computers to do what we want them to do.<br>\n",
    "    A <strong>command</strong> or <strong>statement</strong> is an instruction given to the computer to do what the programmer wants. For example, print('Hello, world!').<br> Computer programs are expressed in a programming language. Programming languages are more or less languages with their own construct and syntax. <strong>Syntax</strong> gives the rule of grammar in a programming language</p>\n",
    "    \n",
    "<p>Most of this class will be about getting used to python's syntax. One thing to note is that programming languages differ largely in their syntax, but the logic of writing programs is the same</p>"
   ]
  },
  {
   "cell_type": "markdown",
   "metadata": {},
   "source": [
    "<h2>OBJECTS AND EXPRESSIONS</h2>\n",
    "\n",
    "<p><strong>Objects</strong> are the core things that python programs manipulate. Every object has a type that defines the kinds of things that program can do with objects of that type.<br> Python has numerous <strong>primitive</strong> objects such as integers(int), strings, floats, and more complex objects like lists, dictionaries, sets, tuples</p>\n",
    "\n",
    "<p>Objects and <strong>operators</strong> can be combined to form <strong>expressions</strong>, each of which evaluates to an object of some type.</p>\n",
    "\n",
    "<p>Examples of basic expressions</p>\n",
    "\n",
    "<ul>\n",
    "    <li>3 + 2 denotes the object 5 of type int</li>\n",
    "        <li>3.0 + 2.0 denotes the object 5.0 of type float</li>\n",
    "\n",
    "</ul>\n",
    "\n",
    "<p><strong>WHATEVER TYPE YOU ARE WORKING WITH WILL DETERMINE WHAT KIND OF OPERATIONS ARE VALID!</strong></p>"
   ]
  },
  {
   "cell_type": "code",
   "execution_count": 1,
   "metadata": {},
   "outputs": [
    {
     "data": {
      "text/plain": [
       "5"
      ]
     },
     "execution_count": 1,
     "metadata": {},
     "output_type": "execute_result"
    }
   ],
   "source": [
    "3 + 2"
   ]
  },
  {
   "cell_type": "code",
   "execution_count": 2,
   "metadata": {},
   "outputs": [
    {
     "data": {
      "text/plain": [
       "8.0"
      ]
     },
     "execution_count": 2,
     "metadata": {},
     "output_type": "execute_result"
    }
   ],
   "source": [
    "3.0 + 5.0"
   ]
  },
  {
   "cell_type": "code",
   "execution_count": 3,
   "metadata": {},
   "outputs": [
    {
     "data": {
      "text/plain": [
       "'AyomideOdumakinde'"
      ]
     },
     "execution_count": 3,
     "metadata": {},
     "output_type": "execute_result"
    }
   ],
   "source": [
    "'Ayomide' + 'Odumakinde'"
   ]
  },
  {
   "cell_type": "code",
   "execution_count": 4,
   "metadata": {},
   "outputs": [
    {
     "data": {
      "text/plain": [
       "[1, 2, 3, 4, 5, 6, 7, 8]"
      ]
     },
     "execution_count": 4,
     "metadata": {},
     "output_type": "execute_result"
    }
   ],
   "source": [
    "[1, 2, 3, 4] + [5, 6, 7, 8]"
   ]
  },
  {
   "cell_type": "code",
   "execution_count": 18,
   "metadata": {},
   "outputs": [
    {
     "name": "stdout",
     "output_type": "stream",
     "text": [
      "Hello, world!\n"
     ]
    }
   ],
   "source": [
    "# Print out Hello, world!\n",
    "print('Hello, world!')"
   ]
  },
  {
   "cell_type": "markdown",
   "metadata": {},
   "source": [
    "<h2>Variables and Assignment</h2>\n",
    "\n",
    "<p>Variables are like containers that hold an object They provide a way to associate names with objects</p>\n",
    "\n",
    "<p>In Python, <strong>a variable is just a name</strong>, nothing more. An <strong>assignment</strong> statement associates the name to the left of the = symbol with the object denote by the expression to the right of the =.</p>\n",
    "\n",
    "<p>There are few rules to creating or working with variables</p>\n",
    "\n",
    "<ul>\n",
    "    <li>Variable names can contain uppercase and lowercase letters, digits (but they cannot start with a digit)</li>\n",
    "    <li>Variables names are case-sensitive.</li>\n",
    "    <li>There are a small number of <strong>keywords</strong> in python that have bult-in meanings and cannot be used as variable names.</li>\n",
    "</ul>\n",
    "\n",
    "<strong>ALWAYS MAKE SURE THAT YOUR VARIABLE NAMES ARE AS DESCRIPTIVE AS POSSIBLE.</strong>\n"
   ]
  },
  {
   "cell_type": "code",
   "execution_count": 5,
   "metadata": {},
   "outputs": [],
   "source": [
    "pi = 3.14"
   ]
  },
  {
   "cell_type": "code",
   "execution_count": 6,
   "metadata": {},
   "outputs": [],
   "source": [
    "Pi = 3.142"
   ]
  },
  {
   "cell_type": "code",
   "execution_count": 7,
   "metadata": {},
   "outputs": [
    {
     "name": "stdout",
     "output_type": "stream",
     "text": [
      "3.14\n"
     ]
    }
   ],
   "source": [
    "print(pi)"
   ]
  },
  {
   "cell_type": "code",
   "execution_count": 8,
   "metadata": {},
   "outputs": [
    {
     "name": "stdout",
     "output_type": "stream",
     "text": [
      "3.142\n"
     ]
    }
   ],
   "source": [
    "print(Pi)"
   ]
  },
  {
   "cell_type": "code",
   "execution_count": 9,
   "metadata": {},
   "outputs": [],
   "source": [
    "radius = 11"
   ]
  },
  {
   "cell_type": "code",
   "execution_count": 10,
   "metadata": {},
   "outputs": [],
   "source": [
    "area = pi * (radius**2)"
   ]
  },
  {
   "cell_type": "code",
   "execution_count": 11,
   "metadata": {},
   "outputs": [
    {
     "name": "stdout",
     "output_type": "stream",
     "text": [
      "379.94\n"
     ]
    }
   ],
   "source": [
    "print(area)"
   ]
  },
  {
   "cell_type": "code",
   "execution_count": 12,
   "metadata": {},
   "outputs": [],
   "source": [
    "# assign 14 to variable radius\n",
    "radius = 14"
   ]
  },
  {
   "cell_type": "markdown",
   "metadata": {},
   "source": [
    "<h2>STRINGS, INTEGERS AND FLOATS</h2>\n",
    "\n",
    "<p>Strings are one of python's primitives. Object of type str are used to represent strings of characters. Anything written using single or double quotes is a string. For example, 'This is a string.', \"This is a string\" '5'. </p>\n",
    "\n",
    "<p>There are couple of basic operations allowed on strings</p>\n",
    "\n",
    "\n",
    "<p><strong>CONCATENATION</strong> - More or less <em>joining</em> two strings together using the '+'  operator</p>\n",
    "    \n",
    "<p><strong>INDEXING</strong> - Indexing can be used to extract individual characters from a string. In python, all indexing is zero-based.</p>\n",
    "    \n",
    "<p><strong>SLICING</strong> - Slicing is used to extract substrings of arbirary length. If s is a string, the expression s[start:end] denotes the substring of s that starts at index start and ends at index end-1</p>\n"
   ]
  },
  {
   "cell_type": "code",
   "execution_count": 15,
   "metadata": {},
   "outputs": [
    {
     "data": {
      "text/plain": [
       "'This is a string'"
      ]
     },
     "execution_count": 15,
     "metadata": {},
     "output_type": "execute_result"
    }
   ],
   "source": [
    "# Example of a string\n",
    "'This is a string'"
   ]
  },
  {
   "cell_type": "code",
   "execution_count": 16,
   "metadata": {},
   "outputs": [],
   "source": [
    "# Assigning a string to a variable. Name of the variable is name.\n",
    "name = 'Ayomide'"
   ]
  },
  {
   "cell_type": "code",
   "execution_count": 17,
   "metadata": {},
   "outputs": [
    {
     "data": {
      "text/plain": [
       "str"
      ]
     },
     "execution_count": 17,
     "metadata": {},
     "output_type": "execute_result"
    }
   ],
   "source": [
    "# We use the function type() to check the type of object we working with.\n",
    "type(name)"
   ]
  },
  {
   "cell_type": "code",
   "execution_count": null,
   "metadata": {},
   "outputs": [],
   "source": []
  }
 ],
 "metadata": {
  "kernelspec": {
   "display_name": "Python 3",
   "language": "python",
   "name": "python3"
  },
  "language_info": {
   "codemirror_mode": {
    "name": "ipython",
    "version": 3
   },
   "file_extension": ".py",
   "mimetype": "text/x-python",
   "name": "python",
   "nbconvert_exporter": "python",
   "pygments_lexer": "ipython3",
   "version": "3.8.3"
  }
 },
 "nbformat": 4,
 "nbformat_minor": 4
}
