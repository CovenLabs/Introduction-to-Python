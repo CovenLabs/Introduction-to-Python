{
 "cells": [
  {
   "cell_type": "markdown",
   "metadata": {},
   "source": [
    "<h1>GPA CALCULATOR</h1>\n",
    "\n",
    "<p>We have weights for each grade.\n",
    "    <ul>\n",
    "        <li>A = 5 points (70 - 100)</li>\n",
    "        <li>B = 4 points (60 - 69)</li>\n",
    "        <li>C = 3 points (50 - 59)</li>\n",
    "        <li>D = 2 points (45 - 49)</li>\n",
    "        <li>E = 1 point (40 -44)</li>\n",
    "        <li>F = 0 point (0 - 39) </li>\n",
    "    </ul>\n",
    "    We have courses with their units.\n",
    "    <ul>\n",
    "        <li>MTH 101 = 5 units</li>\n",
    "        <li>PHY 101 = 4 units</li>\n",
    "        <li>CHM 101 = 4 units</li>\n",
    "        <li>Lib 001 = 0 units</li>\n",
    "        <li>TPD 101 = 2 units</li>\n",
    "        <li>PHY 103 = 1 unit</li>\n",
    "        <li>CHM 107 = 1 unit</li>\n",
    "    </ul>\n",
    "    GPA = TPU/TNU = (5*5)+(5*4)+(5*4)+(5*0)+(5*2)+(5*1)+(5*1)/17 = 5.0\n",
    "</p>\n",
    "\n",
    "<p>WHERE DO WE START?????!!!!!</p>"
   ]
  },
  {
   "cell_type": "markdown",
   "metadata": {},
   "source": [
    "<p>Enter MTH101 grade: A<br>\n",
    "Enter PHY101 grade: A<br>\n",
    "\n",
    "Your GPA for the semester is 4.0</p>"
   ]
  },
  {
   "cell_type": "code",
   "execution_count": 7,
   "metadata": {},
   "outputs": [
    {
     "name": "stdout",
     "output_type": "stream",
     "text": [
      "Enter MTH101 grade: A\n",
      "Enter PHY101 grade: A\n",
      "Enter CHM101 grade: A\n",
      "Enter LIB001 grade: A\n",
      "Enter TPD101 grade: A\n",
      "Enter PHY103 grade: A\n",
      "Enter CHM107 grade: A\n",
      "Your GPA for the semester is 5.0\n"
     ]
    }
   ],
   "source": [
    "grades = {'A':5.0, 'B':4.0, 'C':3.0, 'D':2.0, 'E':1.0, 'F':0.0}\n",
    "\n",
    "courses = {'MTH101':5.0, 'PHY101':4.0, 'CHM101':4.0, 'LIB001':0.0, 'TPD101':2.0, 'PHY103':1.0, 'CHM107':1.0}\n",
    "\n",
    "# Variable initializations for tpu and tnu. Always initialize your variables before using in a loop\n",
    "tpu = 0\n",
    "tnu = 0\n",
    "\n",
    "# The for statement loops through the keys of the courses.\n",
    "for course in courses:\n",
    "    \n",
    "    # respond = 'A'\n",
    "    response = input('Enter {} grade: '.format(course))\n",
    "    \n",
    "    tnu = tnu + courses[course]\n",
    "    tpu = tpu + (grades[response] * courses[course])\n",
    "\n",
    "gpa = tpu/tnu\n",
    "print('Your GPA for the semester is {}'.format(gpa))"
   ]
  },
  {
   "cell_type": "markdown",
   "metadata": {},
   "source": [
    "<p>Go ahead and modify the code, such that the user enters just his score.</p>\n",
    "\n",
    "<p>Write a program for GPA that allows to user to specify the courses in the semester and the number of units of each course (Hint)</p>"
   ]
  }
 ],
 "metadata": {
  "kernelspec": {
   "display_name": "Python 3",
   "language": "python",
   "name": "python3"
  },
  "language_info": {
   "codemirror_mode": {
    "name": "ipython",
    "version": 3
   },
   "file_extension": ".py",
   "mimetype": "text/x-python",
   "name": "python",
   "nbconvert_exporter": "python",
   "pygments_lexer": "ipython3",
   "version": "3.8.3"
  }
 },
 "nbformat": 4,
 "nbformat_minor": 4
}
